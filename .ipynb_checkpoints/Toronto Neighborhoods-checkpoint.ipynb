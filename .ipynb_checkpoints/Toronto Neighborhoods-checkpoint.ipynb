{
 "cells": [
  {
   "cell_type": "markdown",
   "metadata": {},
   "source": [
    "## Toronto Neighborhoods"
   ]
  },
  {
   "cell_type": "code",
   "execution_count": 1,
   "metadata": {},
   "outputs": [],
   "source": [
    "#import statements\n",
    "from bs4 import BeautifulSoup\n",
    "import pandas as pd\n",
    "import requests"
   ]
  },
  {
   "cell_type": "markdown",
   "metadata": {},
   "source": [
    "Download data from Wikipedia"
   ]
  },
  {
   "cell_type": "code",
   "execution_count": 2,
   "metadata": {},
   "outputs": [],
   "source": [
    "#Get data from Wikipedia\n",
    "url_wiki='https://en.wikipedia.org/wiki/List_of_postal_codes_of_Canada:_M'\n",
    "r  = requests.get(url_wiki)\n",
    "dataRaw = r.text"
   ]
  },
  {
   "cell_type": "markdown",
   "metadata": {},
   "source": [
    "Prettify the HTML code to discover table structure"
   ]
  },
  {
   "cell_type": "code",
   "execution_count": 3,
   "metadata": {},
   "outputs": [],
   "source": [
    "#find table\n",
    "wikiPage = BeautifulSoup(dataRaw, 'html.parser')\n",
    "#print(wikiPage.prettify())"
   ]
  },
  {
   "cell_type": "markdown",
   "metadata": {},
   "source": [
    "Extract table tag"
   ]
  },
  {
   "cell_type": "code",
   "execution_count": 4,
   "metadata": {},
   "outputs": [],
   "source": [
    "wikiTable=wikiPage.table"
   ]
  },
  {
   "cell_type": "markdown",
   "metadata": {},
   "source": [
    "Each row is in a tag 'tr'. For each row, columns are divided by 'td'. Data is already ordered by postal code."
   ]
  },
  {
   "cell_type": "code",
   "execution_count": 5,
   "metadata": {},
   "outputs": [],
   "source": [
    "def getTorontoDataFrame(wikiTableIn):\n",
    "    count=0\n",
    "    countList=0\n",
    "    listFields=[]\n",
    "    oldPostCode=''\n",
    "    \n",
    "    for rowWiki in wikiTableIn.find_all('tr'):\n",
    "        listTmp=[]\n",
    "        if count!=0:\n",
    "            for fieldsWiki in rowWiki.find_all('td'):\n",
    "                listTmp.append(fieldsWiki.get_text().replace('\\n',''))\n",
    "                \n",
    "        if len(listTmp)>0:\n",
    "            postCode=listTmp[0]\n",
    "            borough=listTmp[1]\n",
    "            neighborhood=listTmp[2]\n",
    "            \n",
    "            #Discard record with Borough in Not assigned\n",
    "            if borough!='Not assigned':\n",
    "                #Assign the value of Borough to Neighborhood if it is not assigned\n",
    "                if neighborhood=='Not assigned':\n",
    "                    listTmp[2]=listTmp[1]\n",
    "                #Compact on post code\n",
    "                if oldPostCode==postCode:\n",
    "                    oldNeighborhood=listFields[countList-1][2]\n",
    "                    listTmp[2]=str(oldNeighborhood)+', '+str(neighborhood)\n",
    "                listFields.append(listTmp)\n",
    "                countList=countList+1\n",
    "            \n",
    "            #Assign new post code\n",
    "            oldPostCode=postCode\n",
    "    \n",
    "        count=count+1\n",
    "    \n",
    "    #Create DataFrame\n",
    "    labels = ['PostalCode','Borough','Neighborhood']\n",
    "    dfInput = pd.DataFrame.from_records(listFields, columns=labels)\n",
    "    \n",
    "    #Remove duplicates on postal code (keep last, the one with more records)\n",
    "    dfInput.drop_duplicates(subset=['PostalCode'], keep='last', inplace=True)\n",
    "    \n",
    "    return(dfInput)"
   ]
  },
  {
   "cell_type": "code",
   "execution_count": 6,
   "metadata": {},
   "outputs": [],
   "source": [
    "dfToronto=getTorontoDataFrame(wikiTable)"
   ]
  },
  {
   "cell_type": "code",
   "execution_count": 7,
   "metadata": {},
   "outputs": [
    {
     "data": {
      "text/plain": [
       "(103, 3)"
      ]
     },
     "execution_count": 7,
     "metadata": {},
     "output_type": "execute_result"
    }
   ],
   "source": [
    "dfToronto.shape"
   ]
  },
  {
   "cell_type": "code",
   "execution_count": null,
   "metadata": {},
   "outputs": [],
   "source": []
  }
 ],
 "metadata": {
  "kernelspec": {
   "display_name": "Python 3",
   "language": "python",
   "name": "python3"
  },
  "language_info": {
   "codemirror_mode": {
    "name": "ipython",
    "version": 3
   },
   "file_extension": ".py",
   "mimetype": "text/x-python",
   "name": "python",
   "nbconvert_exporter": "python",
   "pygments_lexer": "ipython3",
   "version": "3.7.2"
  }
 },
 "nbformat": 4,
 "nbformat_minor": 2
}
