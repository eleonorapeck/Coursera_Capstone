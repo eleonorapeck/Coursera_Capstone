{
 "cells": [
  {
   "cell_type": "markdown",
   "metadata": {},
   "source": [
    "# Toronto Neighborhoods Clustering"
   ]
  },
  {
   "cell_type": "code",
   "execution_count": 351,
   "metadata": {},
   "outputs": [],
   "source": [
    "from bs4 import BeautifulSoup\n",
    "import pandas as pd\n",
    "import requests\n",
    "import numpy as np\n",
    "\n",
    "from geopy.geocoders import Nominatim\n",
    "\n",
    "# Matplotlib and associated plotting modules\n",
    "import matplotlib.cm as cm\n",
    "import matplotlib.colors as colors\n",
    "\n",
    "# import k-means from clustering stage\n",
    "from sklearn.cluster import KMeans\n",
    "\n",
    "# map rendering library\n",
    "import folium \n",
    "\n",
    "from sklearn.cluster import KMeans\n",
    "from scipy.spatial.distance import cdist\n",
    "\n",
    "import matplotlib.pyplot as plt\n",
    "\n",
    "from collections import Counter\n",
    "\n",
    "from sklearn.metrics import silhouette_samples, silhouette_score\n",
    "\n",
    "%matplotlib inline\n",
    "\n",
    "from sklearn.preprocessing import StandardScaler"
   ]
  },
  {
   "cell_type": "markdown",
   "metadata": {},
   "source": [
    "## 1. Functions definition"
   ]
  },
  {
   "cell_type": "markdown",
   "metadata": {},
   "source": [
    "Function for extract venues"
   ]
  },
  {
   "cell_type": "markdown",
   "metadata": {},
   "source": [
    "Each row is in a tag 'tr'. For each row, columns are divided by 'td'. Data is already ordered by postal code."
   ]
  },
  {
   "cell_type": "code",
   "execution_count": 352,
   "metadata": {},
   "outputs": [],
   "source": [
    "def getNearbyVenues(names, latitudes, longitudes, radius=500):\n",
    "    \n",
    "    venues_list=[]\n",
    "    for name, lat, lng in zip(names, latitudes, longitudes):\n",
    "        print(name)\n",
    "            \n",
    "        # create the API request URL\n",
    "        url = 'https://api.foursquare.com/v2/venues/explore?&client_id={}&client_secret={}&v={}&ll={},{}&radius={}&limit={}'.format(\n",
    "            CLIENT_ID, \n",
    "            CLIENT_SECRET, \n",
    "            VERSION, \n",
    "            lat, \n",
    "            lng, \n",
    "            radius, \n",
    "            LIMIT)\n",
    "            \n",
    "        # make the GET request\n",
    "        results = requests.get(url).json()[\"response\"]['groups'][0]['items']\n",
    "        \n",
    "        # return only relevant information for each nearby venue\n",
    "        venues_list.append([(\n",
    "            name, \n",
    "            lat, \n",
    "            lng, \n",
    "            v['venue']['name'], \n",
    "            v['venue']['location']['lat'], \n",
    "            v['venue']['location']['lng'],  \n",
    "            v['venue']['categories'][0]['name']) for v in results])\n",
    "\n",
    "    nearby_venues = pd.DataFrame([item for venue_list in venues_list for item in venue_list])\n",
    "    nearby_venues.columns = ['Neighborhood', \n",
    "                  'Neighborhood Latitude', \n",
    "                  'Neighborhood Longitude', \n",
    "                  'Venue', \n",
    "                  'Venue Latitude', \n",
    "                  'Venue Longitude', \n",
    "                  'Venue Category']\n",
    "    \n",
    "    return(nearby_venues)"
   ]
  },
  {
   "cell_type": "markdown",
   "metadata": {},
   "source": [
    "Function to populare dataframe"
   ]
  },
  {
   "cell_type": "code",
   "execution_count": 353,
   "metadata": {},
   "outputs": [],
   "source": [
    "def getTorontoDataFrame(wikiTableIn):\n",
    "    count=0\n",
    "    countList=0\n",
    "    listFields=[]\n",
    "    oldPostCode=''\n",
    "    \n",
    "    for rowWiki in wikiTableIn.find_all('tr'):\n",
    "        listTmp=[]\n",
    "        if count!=0:\n",
    "            for fieldsWiki in rowWiki.find_all('td'):\n",
    "                listTmp.append(fieldsWiki.get_text().replace('\\n',''))\n",
    "                \n",
    "        if len(listTmp)>0:\n",
    "            postCode=listTmp[0]\n",
    "            borough=listTmp[1]\n",
    "            neighborhood=listTmp[2]\n",
    "            \n",
    "            #Discard record with Borough in Not assigned\n",
    "            if borough!='Not assigned':\n",
    "                #Assign the value of Borough to Neighborhood if it is not assigned\n",
    "                if neighborhood=='Not assigned':\n",
    "                    listTmp[2]=listTmp[1]\n",
    "                #Compact on post code\n",
    "                if oldPostCode==postCode:\n",
    "                    oldNeighborhood=listFields[countList-1][2]\n",
    "                    listTmp[2]=str(oldNeighborhood)+', '+str(neighborhood)\n",
    "                listFields.append(listTmp)\n",
    "                countList=countList+1\n",
    "            \n",
    "            #Assign new post code\n",
    "            oldPostCode=postCode\n",
    "    \n",
    "        count=count+1\n",
    "    \n",
    "    #Create DataFrame\n",
    "    labels = ['PostalCode','Borough','Neighborhood']\n",
    "    dfInput = pd.DataFrame.from_records(listFields, columns=labels)\n",
    "    \n",
    "    #Remove duplicates on postal code (keep last, the one with more records)\n",
    "    dfInput.drop_duplicates(subset=['PostalCode'], keep='last', inplace=True)\n",
    "    \n",
    "    return(dfInput)"
   ]
  },
  {
   "cell_type": "markdown",
   "metadata": {},
   "source": [
    "Function for returning most common venues"
   ]
  },
  {
   "cell_type": "code",
   "execution_count": 354,
   "metadata": {},
   "outputs": [],
   "source": [
    "def return_most_common_venues(row, num_top_venues):\n",
    "    row_categories = row.iloc[1:]\n",
    "    row_categories_sorted = row_categories.sort_values(ascending=False)\n",
    "    \n",
    "    return row_categories_sorted.index.values[0:num_top_venues]"
   ]
  },
  {
   "cell_type": "code",
   "execution_count": 355,
   "metadata": {},
   "outputs": [],
   "source": [
    "def k_means_find_best_k(df,k_max):\n",
    "    app={}\n",
    "    for k in range (2, k_max):\n",
    "        #Create a kmeans model on our data, using k clusters.  random_state helps ensure that the algorithm returns the same results each time.\n",
    "        kmeans_model = KMeans(init=\"k-means++\", n_init=12, n_clusters=k, random_state=10).fit(df)\n",
    "    \n",
    "        # These are our fitted labels for clusters -- the first cluster has label 0, and the second has label 1.\n",
    "        labels = kmeans_model.labels_\n",
    "        cluster_labels=kmeans_model.fit_predict(df)\n",
    "        # Sum of distances of samples to their closest cluster center\n",
    "        dist=sum(np.min(cdist(df, kmeans_model.cluster_centers_, 'euclidean'), axis=1)) / df.shape[0]\n",
    "        #dist=kmeans_model.inertia_\n",
    "        #dist=kmeans_model.score(df)\n",
    "        app[k]= dist\n",
    "\n",
    "    return(app)"
   ]
  },
  {
   "cell_type": "code",
   "execution_count": 356,
   "metadata": {},
   "outputs": [],
   "source": [
    "def chooseKSilhouette(X,k_max):\n",
    "    #range_n_clusters = [2, 3, 4, 5, 6]\n",
    "    \n",
    "    for n_clusters in range(2,k_max):\n",
    "        # Create a subplot with 1 row and 2 columns\n",
    "        fig, (ax1, ax2) = plt.subplots(1, 2)\n",
    "        fig.set_size_inches(18, 7)\n",
    "    \n",
    "        # The 1st subplot is the silhouette plot\n",
    "        # The silhouette coefficient can range from -1, 1 but in this example all\n",
    "        # lie within [-0.1, 1]\n",
    "        ax1.set_xlim([-0.1, 1])\n",
    "        # The (n_clusters+1)*10 is for inserting blank space between silhouette\n",
    "        # plots of individual clusters, to demarcate them clearly.\n",
    "        ax1.set_ylim([0, len(X) + (n_clusters + 1) * 10])\n",
    "    \n",
    "        # Initialize the clusterer with n_clusters value and a random generator\n",
    "        # seed of 10 for reproducibility.\n",
    "        clusterer = KMeans(n_clusters=n_clusters, random_state=10)\n",
    "        cluster_labels = clusterer.fit_predict(X)\n",
    "    \n",
    "        # The silhouette_score gives the average value for all the samples.\n",
    "        # This gives a perspective into the density and separation of the formed\n",
    "        # clusters\n",
    "        silhouette_avg = silhouette_score(X, cluster_labels)\n",
    "        print(\"For n_clusters =\", n_clusters,\n",
    "              \"The average silhouette_score is :\", silhouette_avg)\n",
    "    \n",
    "        # Compute the silhouette scores for each sample\n",
    "        sample_silhouette_values = silhouette_samples(X, cluster_labels)\n",
    "    \n",
    "        y_lower = 10\n",
    "        for i in range(n_clusters):\n",
    "            # Aggregate the silhouette scores for samples belonging to\n",
    "            # cluster i, and sort them\n",
    "            ith_cluster_silhouette_values = sample_silhouette_values[cluster_labels == i]\n",
    "    \n",
    "            ith_cluster_silhouette_values.sort()\n",
    "    \n",
    "            size_cluster_i = ith_cluster_silhouette_values.shape[0]\n",
    "            y_upper = y_lower + size_cluster_i\n",
    "    \n",
    "            color = cm.nipy_spectral(float(i) / n_clusters)\n",
    "            ax1.fill_betweenx(np.arange(y_lower, y_upper),\n",
    "                              0, ith_cluster_silhouette_values,\n",
    "                              facecolor=color, edgecolor=color, alpha=0.7)\n",
    "    \n",
    "            # Label the silhouette plots with their cluster numbers at the middle\n",
    "            ax1.text(-0.05, y_lower + 0.5 * size_cluster_i, str(i))\n",
    "    \n",
    "            # Compute the new y_lower for next plot\n",
    "            y_lower = y_upper + 10  # 10 for the 0 samples\n",
    "    \n",
    "        ax1.set_title(\"The silhouette plot for the various clusters.\")\n",
    "        ax1.set_xlabel(\"The silhouette coefficient values\")\n",
    "        ax1.set_ylabel(\"Cluster label\")\n",
    "    \n",
    "        # The vertical line for average silhouette score of all the values\n",
    "        ax1.axvline(x=silhouette_avg, color=\"red\", linestyle=\"--\")\n",
    "    \n",
    "        ax1.set_yticks([])  # Clear the yaxis labels / ticks\n",
    "        ax1.set_xticks([-0.1, 0, 0.2, 0.4, 0.6, 0.8, 1])\n",
    "    \n",
    "        # 2nd Plot showing the actual clusters formed\n",
    "        colors = cm.nipy_spectral(cluster_labels.astype(float) / n_clusters)\n",
    "        ax2.scatter(X.values[:, 0], X.values[:, 1], marker='.', s=30, lw=0, alpha=0.7,\n",
    "                    c=colors, edgecolor='k')\n",
    "    \n",
    "        # Labeling the clusters\n",
    "        centers = clusterer.cluster_centers_\n",
    "        # Draw white circles at cluster centers\n",
    "        ax2.scatter(centers[:, 0], centers[:, 1], marker='o',\n",
    "                    c=\"white\", alpha=1, s=200, edgecolor='k')\n",
    "    \n",
    "        for i, c in enumerate(centers):\n",
    "            ax2.scatter(c[0], c[1], marker='$%d$' % i, alpha=1,\n",
    "                        s=50, edgecolor='k')\n",
    "    \n",
    "        ax2.set_title(\"The visualization of the clustered data.\")\n",
    "        ax2.set_xlabel(\"Feature space for the 1st feature\")\n",
    "        ax2.set_ylabel(\"Feature space for the 2nd feature\")\n",
    "    \n",
    "        plt.suptitle((\"Silhouette analysis for KMeans clustering on sample data \"\n",
    "                      \"with n_clusters = %d\" % n_clusters),\n",
    "                     fontsize=14, fontweight='bold')\n",
    "    \n",
    "    plt.show()"
   ]
  },
  {
   "cell_type": "code",
   "execution_count": 357,
   "metadata": {},
   "outputs": [],
   "source": [
    "def countOccurenciesSorted(df):\n",
    "    columns_chosen=list(df.columns[2:])\n",
    "    listApp=df[columns_chosen].values\n",
    "    unique, counts = np.unique(listApp, return_counts=True)\n",
    "    countOc=dict(zip(unique, counts))\n",
    "    sorted_by_value = sorted(countOc.items(), key=lambda kv: kv[1])\n",
    "    return(sorted_by_value)"
   ]
  },
  {
   "cell_type": "code",
   "execution_count": 358,
   "metadata": {},
   "outputs": [],
   "source": [
    "def getVenuesList(dfIn,numCluster):\n",
    "    app=dfIn.loc[[numCluster]]\n",
    "    app=app.T[app.any()].T\n",
    "    venues=app.columns.values\n",
    "    return(venues)"
   ]
  },
  {
   "cell_type": "markdown",
   "metadata": {},
   "source": [
    "## 2. Get Enriched Data with latitude and longitude"
   ]
  },
  {
   "cell_type": "markdown",
   "metadata": {},
   "source": [
    "Download data from Wikipedia, prettify HTML and extract table"
   ]
  },
  {
   "cell_type": "code",
   "execution_count": 359,
   "metadata": {},
   "outputs": [],
   "source": [
    "#Get data from Wikipedia\n",
    "url_wiki='https://en.wikipedia.org/wiki/List_of_postal_codes_of_Canada:_M'\n",
    "r  = requests.get(url_wiki)\n",
    "dataRaw = r.text"
   ]
  },
  {
   "cell_type": "code",
   "execution_count": 360,
   "metadata": {},
   "outputs": [],
   "source": [
    "wikiPage = BeautifulSoup(dataRaw, 'html.parser')\n",
    "wikiTable=wikiPage.table"
   ]
  },
  {
   "cell_type": "markdown",
   "metadata": {},
   "source": [
    "Populate dataframe and add latitute and longitude (geocoder didn't work so I will use the csv file)"
   ]
  },
  {
   "cell_type": "code",
   "execution_count": 361,
   "metadata": {},
   "outputs": [],
   "source": [
    "dfToronto=getTorontoDataFrame(wikiTable)"
   ]
  },
  {
   "cell_type": "code",
   "execution_count": 362,
   "metadata": {},
   "outputs": [],
   "source": [
    "#df with coordinates\n",
    "fileLatLon='Geospatial_Coordinates.csv'\n",
    "dfLatLon=pd.read_csv(fileLatLon)\n",
    "dfLatLon.columns=['PostalCode','Latitude','Longitude']\n",
    "\n",
    "#merge\n",
    "dfTorontoFinal=pd.merge(dfToronto, dfLatLon, on='PostalCode', how='left')"
   ]
  },
  {
   "cell_type": "markdown",
   "metadata": {},
   "source": [
    "## 3. Select neighbors for analysis and map the results"
   ]
  },
  {
   "cell_type": "markdown",
   "metadata": {},
   "source": [
    "Select boroughs containing the word Toronto and verify numerosity"
   ]
  },
  {
   "cell_type": "code",
   "execution_count": 363,
   "metadata": {},
   "outputs": [],
   "source": [
    "dfTorontoFinalCl=dfTorontoFinal[dfTorontoFinal['Borough'].str.contains(\"Toronto\")]"
   ]
  },
  {
   "cell_type": "code",
   "execution_count": 364,
   "metadata": {},
   "outputs": [
    {
     "data": {
      "text/plain": [
       "(38, 5)"
      ]
     },
     "execution_count": 364,
     "metadata": {},
     "output_type": "execute_result"
    }
   ],
   "source": [
    "dfTorontoFinalCl.shape"
   ]
  },
  {
   "cell_type": "markdown",
   "metadata": {},
   "source": [
    "Create a map of the neighborhoods selected, centered in Toronto"
   ]
  },
  {
   "cell_type": "code",
   "execution_count": 365,
   "metadata": {},
   "outputs": [
    {
     "name": "stdout",
     "output_type": "stream",
     "text": [
      "The geograpical coordinate of Toronto are 43.653963, -79.387207.\n"
     ]
    }
   ],
   "source": [
    "address = 'Toronto, Ontario'\n",
    "\n",
    "geolocator = Nominatim(user_agent=\"ny_explorer\")\n",
    "location = geolocator.geocode(address)\n",
    "latitude = location.latitude\n",
    "longitude = location.longitude\n",
    "print('The geograpical coordinate of Toronto are {}, {}.'.format(latitude, longitude))"
   ]
  },
  {
   "cell_type": "code",
   "execution_count": 366,
   "metadata": {
    "scrolled": true
   },
   "outputs": [
    {
     "data": {
      "text/html": [
       "<div style=\"width:100%;\"><div style=\"position:relative;width:100%;height:0;padding-bottom:60%;\"><iframe src=\"data:text/html;charset=utf-8;base64,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\" style=\"position:absolute;width:100%;height:100%;left:0;top:0;border:none !important;\" allowfullscreen webkitallowfullscreen mozallowfullscreen></iframe></div></div>"
      ],
      "text/plain": [
       "<folium.folium.Map at 0x1a31ee2940>"
      ]
     },
     "execution_count": 366,
     "metadata": {},
     "output_type": "execute_result"
    }
   ],
   "source": [
    "# create map of the Toronto's selected neighborhoods using latitude and longitude values\n",
    "map_toronto = folium.Map(location=[latitude, longitude], zoom_start=11)\n",
    "\n",
    "# add markers to map\n",
    "for lat, lng, label in zip(dfTorontoFinalCl['Latitude'], dfTorontoFinalCl['Longitude'], dfTorontoFinalCl['Neighborhood']):\n",
    "    label = folium.Popup(label)\n",
    "    folium.CircleMarker(\n",
    "        [lat, lng],\n",
    "        radius=5,\n",
    "        popup=label,\n",
    "        color='blue',\n",
    "        fill=True,\n",
    "        fill_color='#3186cc',\n",
    "        fill_opacity=0.7).add_to(map_toronto)\n",
    "map_toronto"
   ]
  },
  {
   "cell_type": "markdown",
   "metadata": {},
   "source": [
    "## 4. Extract Venues and prepare data frame"
   ]
  },
  {
   "cell_type": "markdown",
   "metadata": {},
   "source": [
    "Foursquare credentials"
   ]
  },
  {
   "cell_type": "code",
   "execution_count": 367,
   "metadata": {},
   "outputs": [
    {
     "name": "stdout",
     "output_type": "stream",
     "text": [
      "Your credentails:\n",
      "CLIENT_ID: XFGFWJZLBIDWAMBZDRLUQMT2AEZXYQTEWPQRS35SW4FLO10D\n",
      "CLIENT_SECRET:GOZPM2SRDMM4ZELLHQZUCQC1KKSRGUN0LDANY2RWTS4CR5NI\n"
     ]
    }
   ],
   "source": [
    "CLIENT_ID = 'XFGFWJZLBIDWAMBZDRLUQMT2AEZXYQTEWPQRS35SW4FLO10D' # your Foursquare ID\n",
    "CLIENT_SECRET = 'GOZPM2SRDMM4ZELLHQZUCQC1KKSRGUN0LDANY2RWTS4CR5NI' # your Foursquare Secret\n",
    "VERSION = '20180605' # Foursquare API version\n",
    "LIMIT = 100\n",
    "\n",
    "print('Your credentails:')\n",
    "print('CLIENT_ID: ' + CLIENT_ID)\n",
    "print('CLIENT_SECRET:' + CLIENT_SECRET)"
   ]
  },
  {
   "cell_type": "markdown",
   "metadata": {},
   "source": [
    "Get nearby venues for clustering"
   ]
  },
  {
   "cell_type": "code",
   "execution_count": 368,
   "metadata": {},
   "outputs": [
    {
     "name": "stdout",
     "output_type": "stream",
     "text": [
      "Harbourfront, Regent Park\n",
      "Ryerson, Garden District\n",
      "St. James Town\n",
      "The Beaches\n",
      "Berczy Park\n",
      "Central Bay Street\n",
      "Christie\n",
      "Adelaide, King, Richmond\n",
      "Dovercourt Village, Dufferin\n",
      "Harbourfront East, Toronto Islands, Union Station\n",
      "Little Portugal, Trinity\n",
      "The Danforth West, Riverdale\n",
      "Design Exchange, Toronto Dominion Centre\n",
      "Brockton, Exhibition Place, Parkdale Village\n",
      "The Beaches West, India Bazaar\n",
      "Commerce Court, Victoria Hotel\n",
      "Studio District\n",
      "Lawrence Park\n",
      "Roselawn\n",
      "Davisville North\n",
      "Forest Hill North, Forest Hill West\n",
      "High Park, The Junction South\n",
      "North Toronto West\n",
      "The Annex, North Midtown, Yorkville\n",
      "Parkdale, Roncesvalles\n",
      "Davisville\n",
      "Harbord, University of Toronto\n",
      "Runnymede, Swansea\n",
      "Moore Park, Summerhill East\n",
      "Chinatown, Grange Park, Kensington Market\n",
      "Deer Park, Forest Hill SE, Rathnelly, South Hill, Summerhill West\n",
      "CN Tower, Bathurst Quay, Island airport, Harbourfront West, King and Spadina, Railway Lands, South Niagara\n",
      "Rosedale\n",
      "Stn A PO Boxes 25 The Esplanade\n",
      "Cabbagetown, St. James Town\n",
      "First Canadian Place, Underground city\n",
      "Church and Wellesley\n",
      "Business Reply Mail Processing Centre 969 Eastern\n"
     ]
    }
   ],
   "source": [
    "torontoFinalVenues = getNearbyVenues(names=dfTorontoFinalCl['Neighborhood'],\n",
    "                                   latitudes=dfTorontoFinalCl['Latitude'],\n",
    "                                   longitudes=dfTorontoFinalCl['Longitude']\n",
    "                                  )"
   ]
  },
  {
   "cell_type": "code",
   "execution_count": 369,
   "metadata": {},
   "outputs": [
    {
     "data": {
      "text/plain": [
       "(1707, 7)"
      ]
     },
     "execution_count": 369,
     "metadata": {},
     "output_type": "execute_result"
    }
   ],
   "source": [
    "torontoFinalVenues.shape"
   ]
  },
  {
   "cell_type": "markdown",
   "metadata": {},
   "source": [
    "Check how many venues are returned"
   ]
  },
  {
   "cell_type": "code",
   "execution_count": 370,
   "metadata": {},
   "outputs": [
    {
     "name": "stdout",
     "output_type": "stream",
     "text": [
      "There are 236 uniques categories.\n"
     ]
    }
   ],
   "source": [
    "print('There are {} uniques categories.'.format(len(torontoFinalVenues['Venue Category'].unique())))"
   ]
  },
  {
   "cell_type": "markdown",
   "metadata": {},
   "source": [
    "Use one hot encoding on venues"
   ]
  },
  {
   "cell_type": "code",
   "execution_count": 371,
   "metadata": {},
   "outputs": [
    {
     "data": {
      "text/html": [
       "<div>\n",
       "<style scoped>\n",
       "    .dataframe tbody tr th:only-of-type {\n",
       "        vertical-align: middle;\n",
       "    }\n",
       "\n",
       "    .dataframe tbody tr th {\n",
       "        vertical-align: top;\n",
       "    }\n",
       "\n",
       "    .dataframe thead th {\n",
       "        text-align: right;\n",
       "    }\n",
       "</style>\n",
       "<table border=\"1\" class=\"dataframe\">\n",
       "  <thead>\n",
       "    <tr style=\"text-align: right;\">\n",
       "      <th></th>\n",
       "      <th>Neighborhood</th>\n",
       "      <th>Adult Boutique</th>\n",
       "      <th>Afghan Restaurant</th>\n",
       "      <th>Airport</th>\n",
       "      <th>Airport Food Court</th>\n",
       "      <th>Airport Gate</th>\n",
       "      <th>Airport Lounge</th>\n",
       "      <th>Airport Service</th>\n",
       "      <th>Airport Terminal</th>\n",
       "      <th>American Restaurant</th>\n",
       "      <th>...</th>\n",
       "      <th>Mexican Restaurant</th>\n",
       "      <th>Middle Eastern Restaurant</th>\n",
       "      <th>Miscellaneous Shop</th>\n",
       "      <th>Modern European Restaurant</th>\n",
       "      <th>Molecular Gastronomy Restaurant</th>\n",
       "      <th>Monument / Landmark</th>\n",
       "      <th>Movie Theater</th>\n",
       "      <th>Museum</th>\n",
       "      <th>Music Store</th>\n",
       "      <th>Music Venue</th>\n",
       "    </tr>\n",
       "  </thead>\n",
       "  <tbody>\n",
       "    <tr>\n",
       "      <th>0</th>\n",
       "      <td>Harbourfront, Regent Park</td>\n",
       "      <td>0</td>\n",
       "      <td>0</td>\n",
       "      <td>0</td>\n",
       "      <td>0</td>\n",
       "      <td>0</td>\n",
       "      <td>0</td>\n",
       "      <td>0</td>\n",
       "      <td>0</td>\n",
       "      <td>0</td>\n",
       "      <td>...</td>\n",
       "      <td>0</td>\n",
       "      <td>0</td>\n",
       "      <td>0</td>\n",
       "      <td>0</td>\n",
       "      <td>0</td>\n",
       "      <td>0</td>\n",
       "      <td>0</td>\n",
       "      <td>0</td>\n",
       "      <td>0</td>\n",
       "      <td>0</td>\n",
       "    </tr>\n",
       "    <tr>\n",
       "      <th>1</th>\n",
       "      <td>Harbourfront, Regent Park</td>\n",
       "      <td>0</td>\n",
       "      <td>0</td>\n",
       "      <td>0</td>\n",
       "      <td>0</td>\n",
       "      <td>0</td>\n",
       "      <td>0</td>\n",
       "      <td>0</td>\n",
       "      <td>0</td>\n",
       "      <td>0</td>\n",
       "      <td>...</td>\n",
       "      <td>0</td>\n",
       "      <td>0</td>\n",
       "      <td>0</td>\n",
       "      <td>0</td>\n",
       "      <td>0</td>\n",
       "      <td>0</td>\n",
       "      <td>0</td>\n",
       "      <td>0</td>\n",
       "      <td>0</td>\n",
       "      <td>0</td>\n",
       "    </tr>\n",
       "    <tr>\n",
       "      <th>2</th>\n",
       "      <td>Harbourfront, Regent Park</td>\n",
       "      <td>0</td>\n",
       "      <td>0</td>\n",
       "      <td>0</td>\n",
       "      <td>0</td>\n",
       "      <td>0</td>\n",
       "      <td>0</td>\n",
       "      <td>0</td>\n",
       "      <td>0</td>\n",
       "      <td>0</td>\n",
       "      <td>...</td>\n",
       "      <td>0</td>\n",
       "      <td>0</td>\n",
       "      <td>0</td>\n",
       "      <td>0</td>\n",
       "      <td>0</td>\n",
       "      <td>0</td>\n",
       "      <td>0</td>\n",
       "      <td>0</td>\n",
       "      <td>0</td>\n",
       "      <td>0</td>\n",
       "    </tr>\n",
       "    <tr>\n",
       "      <th>3</th>\n",
       "      <td>Harbourfront, Regent Park</td>\n",
       "      <td>0</td>\n",
       "      <td>0</td>\n",
       "      <td>0</td>\n",
       "      <td>0</td>\n",
       "      <td>0</td>\n",
       "      <td>0</td>\n",
       "      <td>0</td>\n",
       "      <td>0</td>\n",
       "      <td>0</td>\n",
       "      <td>...</td>\n",
       "      <td>0</td>\n",
       "      <td>0</td>\n",
       "      <td>0</td>\n",
       "      <td>0</td>\n",
       "      <td>0</td>\n",
       "      <td>0</td>\n",
       "      <td>0</td>\n",
       "      <td>0</td>\n",
       "      <td>0</td>\n",
       "      <td>0</td>\n",
       "    </tr>\n",
       "    <tr>\n",
       "      <th>4</th>\n",
       "      <td>Harbourfront, Regent Park</td>\n",
       "      <td>0</td>\n",
       "      <td>0</td>\n",
       "      <td>0</td>\n",
       "      <td>0</td>\n",
       "      <td>0</td>\n",
       "      <td>0</td>\n",
       "      <td>0</td>\n",
       "      <td>0</td>\n",
       "      <td>0</td>\n",
       "      <td>...</td>\n",
       "      <td>0</td>\n",
       "      <td>0</td>\n",
       "      <td>0</td>\n",
       "      <td>0</td>\n",
       "      <td>0</td>\n",
       "      <td>0</td>\n",
       "      <td>0</td>\n",
       "      <td>0</td>\n",
       "      <td>0</td>\n",
       "      <td>0</td>\n",
       "    </tr>\n",
       "  </tbody>\n",
       "</table>\n",
       "<p>5 rows × 158 columns</p>\n",
       "</div>"
      ],
      "text/plain": [
       "                Neighborhood  Adult Boutique  Afghan Restaurant  Airport  \\\n",
       "0  Harbourfront, Regent Park               0                  0        0   \n",
       "1  Harbourfront, Regent Park               0                  0        0   \n",
       "2  Harbourfront, Regent Park               0                  0        0   \n",
       "3  Harbourfront, Regent Park               0                  0        0   \n",
       "4  Harbourfront, Regent Park               0                  0        0   \n",
       "\n",
       "   Airport Food Court  Airport Gate  Airport Lounge  Airport Service  \\\n",
       "0                   0             0               0                0   \n",
       "1                   0             0               0                0   \n",
       "2                   0             0               0                0   \n",
       "3                   0             0               0                0   \n",
       "4                   0             0               0                0   \n",
       "\n",
       "   Airport Terminal  American Restaurant     ...       Mexican Restaurant  \\\n",
       "0                 0                    0     ...                        0   \n",
       "1                 0                    0     ...                        0   \n",
       "2                 0                    0     ...                        0   \n",
       "3                 0                    0     ...                        0   \n",
       "4                 0                    0     ...                        0   \n",
       "\n",
       "   Middle Eastern Restaurant  Miscellaneous Shop  Modern European Restaurant  \\\n",
       "0                          0                   0                           0   \n",
       "1                          0                   0                           0   \n",
       "2                          0                   0                           0   \n",
       "3                          0                   0                           0   \n",
       "4                          0                   0                           0   \n",
       "\n",
       "   Molecular Gastronomy Restaurant  Monument / Landmark  Movie Theater  \\\n",
       "0                                0                    0              0   \n",
       "1                                0                    0              0   \n",
       "2                                0                    0              0   \n",
       "3                                0                    0              0   \n",
       "4                                0                    0              0   \n",
       "\n",
       "   Museum  Music Store  Music Venue  \n",
       "0       0            0            0  \n",
       "1       0            0            0  \n",
       "2       0            0            0  \n",
       "3       0            0            0  \n",
       "4       0            0            0  \n",
       "\n",
       "[5 rows x 158 columns]"
      ]
     },
     "execution_count": 371,
     "metadata": {},
     "output_type": "execute_result"
    }
   ],
   "source": [
    "# one hot encoding\n",
    "torontoFinalOneHot = pd.get_dummies(torontoFinalVenues[['Venue Category']], prefix=\"\", prefix_sep=\"\")\n",
    "\n",
    "# add neighborhood column back to dataframe\n",
    "torontoFinalOneHot['Neighborhood'] = torontoFinalVenues['Neighborhood'] \n",
    "\n",
    "# move neighborhood column to the first column\n",
    "indexNeigh=torontoFinalOneHot.columns.get_loc(\"Neighborhood\")\n",
    "fixed_columns = [torontoFinalOneHot.columns[indexNeigh]] + list(torontoFinalOneHot.columns[:indexNeigh])\n",
    "torontoFinal_oneHot = torontoFinalOneHot[fixed_columns]\n",
    "\n",
    "torontoFinal_oneHot.head()"
   ]
  },
  {
   "cell_type": "markdown",
   "metadata": {},
   "source": [
    "Group by Neighborhood and calculate average score"
   ]
  },
  {
   "cell_type": "code",
   "execution_count": 372,
   "metadata": {
    "scrolled": false
   },
   "outputs": [],
   "source": [
    "torontoFinal_grouped = torontoFinal_oneHot.groupby('Neighborhood').mean().reset_index()"
   ]
  },
  {
   "cell_type": "markdown",
   "metadata": {},
   "source": [
    "Count the number of neighborhood"
   ]
  },
  {
   "cell_type": "code",
   "execution_count": 373,
   "metadata": {},
   "outputs": [
    {
     "data": {
      "text/plain": [
       "(38, 158)"
      ]
     },
     "execution_count": 373,
     "metadata": {},
     "output_type": "execute_result"
    }
   ],
   "source": [
    "torontoFinal_grouped.shape"
   ]
  },
  {
   "cell_type": "markdown",
   "metadata": {},
   "source": [
    "Create a dataframe with top 10 venues for each neighborhood"
   ]
  },
  {
   "cell_type": "code",
   "execution_count": 374,
   "metadata": {},
   "outputs": [
    {
     "data": {
      "text/html": [
       "<div>\n",
       "<style scoped>\n",
       "    .dataframe tbody tr th:only-of-type {\n",
       "        vertical-align: middle;\n",
       "    }\n",
       "\n",
       "    .dataframe tbody tr th {\n",
       "        vertical-align: top;\n",
       "    }\n",
       "\n",
       "    .dataframe thead th {\n",
       "        text-align: right;\n",
       "    }\n",
       "</style>\n",
       "<table border=\"1\" class=\"dataframe\">\n",
       "  <thead>\n",
       "    <tr style=\"text-align: right;\">\n",
       "      <th></th>\n",
       "      <th>Neighborhood</th>\n",
       "      <th>1st Most Common Venue</th>\n",
       "      <th>2nd Most Common Venue</th>\n",
       "      <th>3rd Most Common Venue</th>\n",
       "      <th>4th Most Common Venue</th>\n",
       "      <th>5th Most Common Venue</th>\n",
       "      <th>6th Most Common Venue</th>\n",
       "      <th>7th Most Common Venue</th>\n",
       "      <th>8th Most Common Venue</th>\n",
       "      <th>9th Most Common Venue</th>\n",
       "      <th>10th Most Common Venue</th>\n",
       "    </tr>\n",
       "  </thead>\n",
       "  <tbody>\n",
       "    <tr>\n",
       "      <th>0</th>\n",
       "      <td>Adelaide, King, Richmond</td>\n",
       "      <td>Coffee Shop</td>\n",
       "      <td>Café</td>\n",
       "      <td>American Restaurant</td>\n",
       "      <td>Bakery</td>\n",
       "      <td>Bar</td>\n",
       "      <td>Asian Restaurant</td>\n",
       "      <td>Clothing Store</td>\n",
       "      <td>Hotel</td>\n",
       "      <td>Gym</td>\n",
       "      <td>Concert Hall</td>\n",
       "    </tr>\n",
       "    <tr>\n",
       "      <th>1</th>\n",
       "      <td>Berczy Park</td>\n",
       "      <td>Coffee Shop</td>\n",
       "      <td>Cocktail Bar</td>\n",
       "      <td>Farmers Market</td>\n",
       "      <td>Café</td>\n",
       "      <td>Cheese Shop</td>\n",
       "      <td>Bakery</td>\n",
       "      <td>Italian Restaurant</td>\n",
       "      <td>Beer Bar</td>\n",
       "      <td>Basketball Stadium</td>\n",
       "      <td>Jazz Club</td>\n",
       "    </tr>\n",
       "    <tr>\n",
       "      <th>2</th>\n",
       "      <td>Brockton, Exhibition Place, Parkdale Village</td>\n",
       "      <td>Café</td>\n",
       "      <td>Coffee Shop</td>\n",
       "      <td>Breakfast Spot</td>\n",
       "      <td>Burrito Place</td>\n",
       "      <td>Climbing Gym</td>\n",
       "      <td>Furniture / Home Store</td>\n",
       "      <td>Convenience Store</td>\n",
       "      <td>Italian Restaurant</td>\n",
       "      <td>Bar</td>\n",
       "      <td>Grocery Store</td>\n",
       "    </tr>\n",
       "    <tr>\n",
       "      <th>3</th>\n",
       "      <td>Business Reply Mail Processing Centre 969 Eastern</td>\n",
       "      <td>Burrito Place</td>\n",
       "      <td>Fast Food Restaurant</td>\n",
       "      <td>Comic Shop</td>\n",
       "      <td>Butcher</td>\n",
       "      <td>Light Rail Station</td>\n",
       "      <td>Auto Workshop</td>\n",
       "      <td>Garden</td>\n",
       "      <td>Garden Center</td>\n",
       "      <td>Farmers Market</td>\n",
       "      <td>Brewery</td>\n",
       "    </tr>\n",
       "    <tr>\n",
       "      <th>4</th>\n",
       "      <td>CN Tower, Bathurst Quay, Island airport, Harbo...</td>\n",
       "      <td>Airport Lounge</td>\n",
       "      <td>Airport Service</td>\n",
       "      <td>Airport Terminal</td>\n",
       "      <td>Harbor / Marina</td>\n",
       "      <td>Airport</td>\n",
       "      <td>Airport Food Court</td>\n",
       "      <td>Airport Gate</td>\n",
       "      <td>Boat or Ferry</td>\n",
       "      <td>Music Venue</td>\n",
       "      <td>Cocktail Bar</td>\n",
       "    </tr>\n",
       "  </tbody>\n",
       "</table>\n",
       "</div>"
      ],
      "text/plain": [
       "                                        Neighborhood 1st Most Common Venue  \\\n",
       "0                           Adelaide, King, Richmond           Coffee Shop   \n",
       "1                                        Berczy Park           Coffee Shop   \n",
       "2       Brockton, Exhibition Place, Parkdale Village                  Café   \n",
       "3  Business Reply Mail Processing Centre 969 Eastern         Burrito Place   \n",
       "4  CN Tower, Bathurst Quay, Island airport, Harbo...        Airport Lounge   \n",
       "\n",
       "  2nd Most Common Venue 3rd Most Common Venue 4th Most Common Venue  \\\n",
       "0                  Café   American Restaurant                Bakery   \n",
       "1          Cocktail Bar        Farmers Market                  Café   \n",
       "2           Coffee Shop        Breakfast Spot         Burrito Place   \n",
       "3  Fast Food Restaurant            Comic Shop               Butcher   \n",
       "4       Airport Service      Airport Terminal       Harbor / Marina   \n",
       "\n",
       "  5th Most Common Venue   6th Most Common Venue 7th Most Common Venue  \\\n",
       "0                   Bar        Asian Restaurant        Clothing Store   \n",
       "1           Cheese Shop                  Bakery    Italian Restaurant   \n",
       "2          Climbing Gym  Furniture / Home Store     Convenience Store   \n",
       "3    Light Rail Station           Auto Workshop                Garden   \n",
       "4               Airport      Airport Food Court          Airport Gate   \n",
       "\n",
       "  8th Most Common Venue 9th Most Common Venue 10th Most Common Venue  \n",
       "0                 Hotel                   Gym           Concert Hall  \n",
       "1              Beer Bar    Basketball Stadium              Jazz Club  \n",
       "2    Italian Restaurant                   Bar          Grocery Store  \n",
       "3         Garden Center        Farmers Market                Brewery  \n",
       "4         Boat or Ferry           Music Venue           Cocktail Bar  "
      ]
     },
     "execution_count": 374,
     "metadata": {},
     "output_type": "execute_result"
    }
   ],
   "source": [
    "num_top_venues = 10\n",
    "\n",
    "indicators = ['st', 'nd', 'rd']\n",
    "\n",
    "# create columns according to number of top venues\n",
    "columns = ['Neighborhood']\n",
    "for ind in np.arange(num_top_venues):\n",
    "    try:\n",
    "        columns.append('{}{} Most Common Venue'.format(ind+1, indicators[ind]))\n",
    "    except:\n",
    "        columns.append('{}th Most Common Venue'.format(ind+1))\n",
    "\n",
    "# create a new dataframe\n",
    "neighborhoods_venues_sorted = pd.DataFrame(columns=columns)\n",
    "neighborhoods_venues_sorted['Neighborhood'] = torontoFinal_grouped['Neighborhood']\n",
    "\n",
    "for ind in np.arange(torontoFinal_grouped.shape[0]):\n",
    "    neighborhoods_venues_sorted.iloc[ind, 1:] = return_most_common_venues(torontoFinal_grouped.iloc[ind, :], num_top_venues)\n",
    "\n",
    "neighborhoods_venues_sorted.head()"
   ]
  },
  {
   "cell_type": "markdown",
   "metadata": {},
   "source": [
    "## 5. Clusters"
   ]
  },
  {
   "cell_type": "code",
   "execution_count": 375,
   "metadata": {},
   "outputs": [],
   "source": [
    "torontoFinal_grouped_clustering = torontoFinal_grouped.drop('Neighborhood', 1)"
   ]
  },
  {
   "cell_type": "markdown",
   "metadata": {},
   "source": [
    "Standardization for better algorithm success"
   ]
  },
  {
   "cell_type": "code",
   "execution_count": 376,
   "metadata": {},
   "outputs": [],
   "source": [
    "torontoFinal_grouped_clustering = StandardScaler().fit(torontoFinal_grouped_clustering).transform(torontoFinal_grouped_clustering)"
   ]
  },
  {
   "cell_type": "markdown",
   "metadata": {},
   "source": [
    "Use k-means for clustering choosing the best k with the elbow method."
   ]
  },
  {
   "cell_type": "code",
   "execution_count": 377,
   "metadata": {},
   "outputs": [],
   "source": [
    "k_costs=k_means_find_best_k(torontoFinal_grouped_clustering,19)\n",
    "df_kcosts=pd.DataFrame.from_dict(k_costs,orient='index').reset_index()\n",
    "df_kcosts.columns=['k','SSE']"
   ]
  },
  {
   "cell_type": "markdown",
   "metadata": {},
   "source": [
    "Plot k vs average distance from centroids"
   ]
  },
  {
   "cell_type": "code",
   "execution_count": 378,
   "metadata": {},
   "outputs": [
    {
     "data": {
      "image/png": "[encoded data removed]",
      "text/plain": [
       "<Figure size 720x432 with 1 Axes>"
      ]
     },
     "metadata": {
      "needs_background": "light"
     },
     "output_type": "display_data"
    }
   ],
   "source": [
    "df_kcosts.plot(kind='scatter', x='k', y='SSE', figsize=(10, 6))\n",
    "plt.ylabel('SSE')\n",
    "plt.xlabel('k-value')\n",
    "plt.title('Elbow Method For Optimal k')\n",
    "plt.show()"
   ]
  },
  {
   "cell_type": "markdown",
   "metadata": {},
   "source": [
    "Doesn't see a clear result. I try with 7 clusters"
   ]
  },
  {
   "cell_type": "code",
   "execution_count": 380,
   "metadata": {},
   "outputs": [
    {
     "data": {
      "text/plain": [
       "array([6, 3, 1, 1, 0, 1, 1, 2, 1, 5], dtype=int32)"
      ]
     },
     "execution_count": 380,
     "metadata": {},
     "output_type": "execute_result"
    }
   ],
   "source": [
    "# set number of clusters\n",
    "kclusters = 7\n",
    "\n",
    "# run k-means clustering\n",
    "kmeans = KMeans(init=\"k-means++\", n_init=12, n_clusters=kclusters, random_state=10).fit(torontoFinal_grouped_clustering)\n",
    "\n",
    "# check cluster labels generated for each row in the dataframe\n",
    "kmeans.labels_[0:10] "
   ]
  },
  {
   "cell_type": "markdown",
   "metadata": {},
   "source": [
    "Store clusters in a dataframe with the other information"
   ]
  },
  {
   "cell_type": "code",
   "execution_count": 381,
   "metadata": {},
   "outputs": [],
   "source": [
    "# add clustering labels\n",
    "neighborhoods_venues_sorted.insert(0, 'Cluster Labels', kmeans.labels_)"
   ]
  },
  {
   "cell_type": "code",
   "execution_count": 382,
   "metadata": {},
   "outputs": [
    {
     "data": {
      "text/html": [
       "<div>\n",
       "<style scoped>\n",
       "    .dataframe tbody tr th:only-of-type {\n",
       "        vertical-align: middle;\n",
       "    }\n",
       "\n",
       "    .dataframe tbody tr th {\n",
       "        vertical-align: top;\n",
       "    }\n",
       "\n",
       "    .dataframe thead th {\n",
       "        text-align: right;\n",
       "    }\n",
       "</style>\n",
       "<table border=\"1\" class=\"dataframe\">\n",
       "  <thead>\n",
       "    <tr style=\"text-align: right;\">\n",
       "      <th></th>\n",
       "      <th>PostalCode</th>\n",
       "      <th>Borough</th>\n",
       "      <th>Neighborhood</th>\n",
       "      <th>Latitude</th>\n",
       "      <th>Longitude</th>\n",
       "      <th>Cluster Labels</th>\n",
       "      <th>1st Most Common Venue</th>\n",
       "      <th>2nd Most Common Venue</th>\n",
       "      <th>3rd Most Common Venue</th>\n",
       "      <th>4th Most Common Venue</th>\n",
       "      <th>5th Most Common Venue</th>\n",
       "      <th>6th Most Common Venue</th>\n",
       "      <th>7th Most Common Venue</th>\n",
       "      <th>8th Most Common Venue</th>\n",
       "      <th>9th Most Common Venue</th>\n",
       "      <th>10th Most Common Venue</th>\n",
       "    </tr>\n",
       "  </thead>\n",
       "  <tbody>\n",
       "    <tr>\n",
       "      <th>2</th>\n",
       "      <td>M5A</td>\n",
       "      <td>Downtown Toronto</td>\n",
       "      <td>Harbourfront, Regent Park</td>\n",
       "      <td>43.654260</td>\n",
       "      <td>-79.360636</td>\n",
       "      <td>1</td>\n",
       "      <td>Coffee Shop</td>\n",
       "      <td>Café</td>\n",
       "      <td>Bakery</td>\n",
       "      <td>Mexican Restaurant</td>\n",
       "      <td>Breakfast Spot</td>\n",
       "      <td>Historic Site</td>\n",
       "      <td>Art Gallery</td>\n",
       "      <td>Italian Restaurant</td>\n",
       "      <td>Ice Cream Shop</td>\n",
       "      <td>French Restaurant</td>\n",
       "    </tr>\n",
       "    <tr>\n",
       "      <th>9</th>\n",
       "      <td>M5B</td>\n",
       "      <td>Downtown Toronto</td>\n",
       "      <td>Ryerson, Garden District</td>\n",
       "      <td>43.657162</td>\n",
       "      <td>-79.378937</td>\n",
       "      <td>1</td>\n",
       "      <td>Coffee Shop</td>\n",
       "      <td>Clothing Store</td>\n",
       "      <td>Café</td>\n",
       "      <td>Cosmetics Shop</td>\n",
       "      <td>Middle Eastern Restaurant</td>\n",
       "      <td>Diner</td>\n",
       "      <td>Italian Restaurant</td>\n",
       "      <td>Japanese Restaurant</td>\n",
       "      <td>Bar</td>\n",
       "      <td>Department Store</td>\n",
       "    </tr>\n",
       "    <tr>\n",
       "      <th>15</th>\n",
       "      <td>M5C</td>\n",
       "      <td>Downtown Toronto</td>\n",
       "      <td>St. James Town</td>\n",
       "      <td>43.651494</td>\n",
       "      <td>-79.375418</td>\n",
       "      <td>3</td>\n",
       "      <td>Coffee Shop</td>\n",
       "      <td>Café</td>\n",
       "      <td>Hotel</td>\n",
       "      <td>Clothing Store</td>\n",
       "      <td>Italian Restaurant</td>\n",
       "      <td>Cosmetics Shop</td>\n",
       "      <td>Cocktail Bar</td>\n",
       "      <td>Bakery</td>\n",
       "      <td>Gastropub</td>\n",
       "      <td>Breakfast Spot</td>\n",
       "    </tr>\n",
       "    <tr>\n",
       "      <th>19</th>\n",
       "      <td>M4E</td>\n",
       "      <td>East Toronto</td>\n",
       "      <td>The Beaches</td>\n",
       "      <td>43.676357</td>\n",
       "      <td>-79.293031</td>\n",
       "      <td>1</td>\n",
       "      <td>Asian Restaurant</td>\n",
       "      <td>Coffee Shop</td>\n",
       "      <td>Music Venue</td>\n",
       "      <td>Concert Hall</td>\n",
       "      <td>Comfort Food Restaurant</td>\n",
       "      <td>College Rec Center</td>\n",
       "      <td>College Gym</td>\n",
       "      <td>College Arts Building</td>\n",
       "      <td>Cocktail Bar</td>\n",
       "      <td>Clothing Store</td>\n",
       "    </tr>\n",
       "    <tr>\n",
       "      <th>20</th>\n",
       "      <td>M5E</td>\n",
       "      <td>Downtown Toronto</td>\n",
       "      <td>Berczy Park</td>\n",
       "      <td>43.644771</td>\n",
       "      <td>-79.373306</td>\n",
       "      <td>3</td>\n",
       "      <td>Coffee Shop</td>\n",
       "      <td>Cocktail Bar</td>\n",
       "      <td>Farmers Market</td>\n",
       "      <td>Café</td>\n",
       "      <td>Cheese Shop</td>\n",
       "      <td>Bakery</td>\n",
       "      <td>Italian Restaurant</td>\n",
       "      <td>Beer Bar</td>\n",
       "      <td>Basketball Stadium</td>\n",
       "      <td>Jazz Club</td>\n",
       "    </tr>\n",
       "  </tbody>\n",
       "</table>\n",
       "</div>"
      ],
      "text/plain": [
       "   PostalCode           Borough               Neighborhood   Latitude  \\\n",
       "2         M5A  Downtown Toronto  Harbourfront, Regent Park  43.654260   \n",
       "9         M5B  Downtown Toronto   Ryerson, Garden District  43.657162   \n",
       "15        M5C  Downtown Toronto             St. James Town  43.651494   \n",
       "19        M4E      East Toronto                The Beaches  43.676357   \n",
       "20        M5E  Downtown Toronto                Berczy Park  43.644771   \n",
       "\n",
       "    Longitude  Cluster Labels 1st Most Common Venue 2nd Most Common Venue  \\\n",
       "2  -79.360636               1           Coffee Shop                  Café   \n",
       "9  -79.378937               1           Coffee Shop        Clothing Store   \n",
       "15 -79.375418               3           Coffee Shop                  Café   \n",
       "19 -79.293031               1      Asian Restaurant           Coffee Shop   \n",
       "20 -79.373306               3           Coffee Shop          Cocktail Bar   \n",
       "\n",
       "   3rd Most Common Venue 4th Most Common Venue      5th Most Common Venue  \\\n",
       "2                 Bakery    Mexican Restaurant             Breakfast Spot   \n",
       "9                   Café        Cosmetics Shop  Middle Eastern Restaurant   \n",
       "15                 Hotel        Clothing Store         Italian Restaurant   \n",
       "19           Music Venue          Concert Hall    Comfort Food Restaurant   \n",
       "20        Farmers Market                  Café                Cheese Shop   \n",
       "\n",
       "   6th Most Common Venue 7th Most Common Venue  8th Most Common Venue  \\\n",
       "2          Historic Site           Art Gallery     Italian Restaurant   \n",
       "9                  Diner    Italian Restaurant    Japanese Restaurant   \n",
       "15        Cosmetics Shop          Cocktail Bar                 Bakery   \n",
       "19    College Rec Center           College Gym  College Arts Building   \n",
       "20                Bakery    Italian Restaurant               Beer Bar   \n",
       "\n",
       "   9th Most Common Venue 10th Most Common Venue  \n",
       "2         Ice Cream Shop      French Restaurant  \n",
       "9                    Bar       Department Store  \n",
       "15             Gastropub         Breakfast Spot  \n",
       "19          Cocktail Bar         Clothing Store  \n",
       "20    Basketball Stadium              Jazz Club  "
      ]
     },
     "execution_count": 382,
     "metadata": {},
     "output_type": "execute_result"
    }
   ],
   "source": [
    "torontoFinal_merged = dfTorontoFinalCl\n",
    "\n",
    "# merge toronto_grouped with toronto_data to add latitude/longitude for each neighborhood\n",
    "torontoFinal_merged = torontoFinal_merged.join(neighborhoods_venues_sorted.set_index('Neighborhood'), on='Neighborhood')\n",
    "\n",
    "torontoFinal_merged.head()\n"
   ]
  },
  {
   "cell_type": "markdown",
   "metadata": {},
   "source": [
    "Create map"
   ]
  },
  {
   "cell_type": "code",
   "execution_count": 383,
   "metadata": {},
   "outputs": [
    {
     "data": {
      "text/html": [
       "<div style=\"width:100%;\"><div style=\"position:relative;width:100%;height:0;padding-bottom:60%;\"><iframe src=\"data:text/html;charset=utf-8;base64,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\" style=\"position:absolute;width:100%;height:100%;left:0;top:0;border:none !important;\" allowfullscreen webkitallowfullscreen mozallowfullscreen></iframe></div></div>"
      ],
      "text/plain": [
       "<folium.folium.Map at 0x1a32045898>"
      ]
     },
     "execution_count": 383,
     "metadata": {},
     "output_type": "execute_result"
    }
   ],
   "source": [
    "# create map\n",
    "map_clusters = folium.Map(location=[latitude, longitude], zoom_start=11)\n",
    "\n",
    "# set color scheme for the clusters\n",
    "x = np.arange(kclusters)\n",
    "ys = [i + x + (i*x)**2 for i in range(kclusters)]\n",
    "colors_array = cm.rainbow(np.linspace(0, 1, len(ys)))\n",
    "rainbow = [colors.rgb2hex(i) for i in colors_array]\n",
    "\n",
    "# add markers to the map\n",
    "markers_colors = []\n",
    "for lat, lon, poi, cluster in zip(torontoFinal_merged['Latitude'], torontoFinal_merged['Longitude'], torontoFinal_merged['Neighborhood'], torontoFinal_merged['Cluster Labels']):\n",
    "    label = folium.Popup(str(poi) + ' Cluster ' + str(cluster))\n",
    "    folium.CircleMarker(\n",
    "        [lat, lon],\n",
    "        radius=5,\n",
    "        popup=label,\n",
    "        color=rainbow[cluster-1],\n",
    "        fill=True,\n",
    "        fill_color=rainbow[cluster-1],\n",
    "        fill_opacity=0.7).add_to(map_clusters)\n",
    "       \n",
    "map_clusters"
   ]
  },
  {
   "cell_type": "markdown",
   "metadata": {},
   "source": [
    "## 6. Cluster Analysis"
   ]
  },
  {
   "cell_type": "markdown",
   "metadata": {},
   "source": [
    "Calculate mean of venues frequency "
   ]
  },
  {
   "cell_type": "code",
   "execution_count": 384,
   "metadata": {},
   "outputs": [],
   "source": [
    "torontoFinal_grouped.insert(0, 'Cluster Labels', kmeans.labels_)"
   ]
  },
  {
   "cell_type": "code",
   "execution_count": 385,
   "metadata": {},
   "outputs": [],
   "source": [
    "torontoFinal_average_cluster=torontoFinal_grouped.groupby('Cluster Labels').mean()"
   ]
  },
  {
   "cell_type": "code",
   "execution_count": 386,
   "metadata": {},
   "outputs": [
    {
     "data": {
      "text/html": [
       "<div>\n",
       "<style scoped>\n",
       "    .dataframe tbody tr th:only-of-type {\n",
       "        vertical-align: middle;\n",
       "    }\n",
       "\n",
       "    .dataframe tbody tr th {\n",
       "        vertical-align: top;\n",
       "    }\n",
       "\n",
       "    .dataframe thead th {\n",
       "        text-align: right;\n",
       "    }\n",
       "</style>\n",
       "<table border=\"1\" class=\"dataframe\">\n",
       "  <thead>\n",
       "    <tr style=\"text-align: right;\">\n",
       "      <th></th>\n",
       "      <th>Adult Boutique</th>\n",
       "      <th>Afghan Restaurant</th>\n",
       "      <th>Airport</th>\n",
       "      <th>Airport Food Court</th>\n",
       "      <th>Airport Gate</th>\n",
       "      <th>Airport Lounge</th>\n",
       "      <th>Airport Service</th>\n",
       "      <th>Airport Terminal</th>\n",
       "      <th>American Restaurant</th>\n",
       "      <th>Antique Shop</th>\n",
       "      <th>...</th>\n",
       "      <th>Mexican Restaurant</th>\n",
       "      <th>Middle Eastern Restaurant</th>\n",
       "      <th>Miscellaneous Shop</th>\n",
       "      <th>Modern European Restaurant</th>\n",
       "      <th>Molecular Gastronomy Restaurant</th>\n",
       "      <th>Monument / Landmark</th>\n",
       "      <th>Movie Theater</th>\n",
       "      <th>Museum</th>\n",
       "      <th>Music Store</th>\n",
       "      <th>Music Venue</th>\n",
       "    </tr>\n",
       "    <tr>\n",
       "      <th>Cluster Labels</th>\n",
       "      <th></th>\n",
       "      <th></th>\n",
       "      <th></th>\n",
       "      <th></th>\n",
       "      <th></th>\n",
       "      <th></th>\n",
       "      <th></th>\n",
       "      <th></th>\n",
       "      <th></th>\n",
       "      <th></th>\n",
       "      <th></th>\n",
       "      <th></th>\n",
       "      <th></th>\n",
       "      <th></th>\n",
       "      <th></th>\n",
       "      <th></th>\n",
       "      <th></th>\n",
       "      <th></th>\n",
       "      <th></th>\n",
       "      <th></th>\n",
       "      <th></th>\n",
       "    </tr>\n",
       "  </thead>\n",
       "  <tbody>\n",
       "    <tr>\n",
       "      <th>0</th>\n",
       "      <td>0.000000</td>\n",
       "      <td>0.000000</td>\n",
       "      <td>0.076923</td>\n",
       "      <td>0.076923</td>\n",
       "      <td>0.076923</td>\n",
       "      <td>0.153846</td>\n",
       "      <td>0.153846</td>\n",
       "      <td>0.153846</td>\n",
       "      <td>0.000000</td>\n",
       "      <td>0.000000</td>\n",
       "      <td>...</td>\n",
       "      <td>0.000000</td>\n",
       "      <td>0.000000</td>\n",
       "      <td>0.000000</td>\n",
       "      <td>0.000000</td>\n",
       "      <td>0.000000</td>\n",
       "      <td>0.00000</td>\n",
       "      <td>0.000000</td>\n",
       "      <td>0.000000</td>\n",
       "      <td>0.00000</td>\n",
       "      <td>0.000000</td>\n",
       "    </tr>\n",
       "    <tr>\n",
       "      <th>1</th>\n",
       "      <td>0.000000</td>\n",
       "      <td>0.000000</td>\n",
       "      <td>0.000000</td>\n",
       "      <td>0.000000</td>\n",
       "      <td>0.000000</td>\n",
       "      <td>0.000000</td>\n",
       "      <td>0.000000</td>\n",
       "      <td>0.000000</td>\n",
       "      <td>0.008229</td>\n",
       "      <td>0.002382</td>\n",
       "      <td>...</td>\n",
       "      <td>0.007192</td>\n",
       "      <td>0.004816</td>\n",
       "      <td>0.000822</td>\n",
       "      <td>0.000822</td>\n",
       "      <td>0.000000</td>\n",
       "      <td>0.00037</td>\n",
       "      <td>0.004369</td>\n",
       "      <td>0.000000</td>\n",
       "      <td>0.00095</td>\n",
       "      <td>0.004573</td>\n",
       "    </tr>\n",
       "    <tr>\n",
       "      <th>2</th>\n",
       "      <td>0.000000</td>\n",
       "      <td>0.000000</td>\n",
       "      <td>0.000000</td>\n",
       "      <td>0.000000</td>\n",
       "      <td>0.000000</td>\n",
       "      <td>0.000000</td>\n",
       "      <td>0.000000</td>\n",
       "      <td>0.000000</td>\n",
       "      <td>0.000000</td>\n",
       "      <td>0.000000</td>\n",
       "      <td>...</td>\n",
       "      <td>0.030000</td>\n",
       "      <td>0.000000</td>\n",
       "      <td>0.000000</td>\n",
       "      <td>0.000000</td>\n",
       "      <td>0.000000</td>\n",
       "      <td>0.00000</td>\n",
       "      <td>0.000000</td>\n",
       "      <td>0.000000</td>\n",
       "      <td>0.00000</td>\n",
       "      <td>0.000000</td>\n",
       "    </tr>\n",
       "    <tr>\n",
       "      <th>3</th>\n",
       "      <td>0.000000</td>\n",
       "      <td>0.000000</td>\n",
       "      <td>0.000000</td>\n",
       "      <td>0.000000</td>\n",
       "      <td>0.000000</td>\n",
       "      <td>0.000000</td>\n",
       "      <td>0.000000</td>\n",
       "      <td>0.000000</td>\n",
       "      <td>0.010175</td>\n",
       "      <td>0.003509</td>\n",
       "      <td>...</td>\n",
       "      <td>0.000000</td>\n",
       "      <td>0.003333</td>\n",
       "      <td>0.000000</td>\n",
       "      <td>0.000000</td>\n",
       "      <td>0.006842</td>\n",
       "      <td>0.00000</td>\n",
       "      <td>0.006842</td>\n",
       "      <td>0.009569</td>\n",
       "      <td>0.00000</td>\n",
       "      <td>0.000000</td>\n",
       "    </tr>\n",
       "    <tr>\n",
       "      <th>4</th>\n",
       "      <td>0.000000</td>\n",
       "      <td>0.000000</td>\n",
       "      <td>0.000000</td>\n",
       "      <td>0.000000</td>\n",
       "      <td>0.000000</td>\n",
       "      <td>0.000000</td>\n",
       "      <td>0.000000</td>\n",
       "      <td>0.000000</td>\n",
       "      <td>0.015385</td>\n",
       "      <td>0.000000</td>\n",
       "      <td>...</td>\n",
       "      <td>0.000000</td>\n",
       "      <td>0.000000</td>\n",
       "      <td>0.015385</td>\n",
       "      <td>0.000000</td>\n",
       "      <td>0.000000</td>\n",
       "      <td>0.00000</td>\n",
       "      <td>0.000000</td>\n",
       "      <td>0.000000</td>\n",
       "      <td>0.00000</td>\n",
       "      <td>0.015385</td>\n",
       "    </tr>\n",
       "    <tr>\n",
       "      <th>5</th>\n",
       "      <td>0.011364</td>\n",
       "      <td>0.011364</td>\n",
       "      <td>0.000000</td>\n",
       "      <td>0.000000</td>\n",
       "      <td>0.000000</td>\n",
       "      <td>0.000000</td>\n",
       "      <td>0.000000</td>\n",
       "      <td>0.000000</td>\n",
       "      <td>0.011364</td>\n",
       "      <td>0.000000</td>\n",
       "      <td>...</td>\n",
       "      <td>0.011364</td>\n",
       "      <td>0.000000</td>\n",
       "      <td>0.000000</td>\n",
       "      <td>0.000000</td>\n",
       "      <td>0.000000</td>\n",
       "      <td>0.00000</td>\n",
       "      <td>0.000000</td>\n",
       "      <td>0.000000</td>\n",
       "      <td>0.00000</td>\n",
       "      <td>0.000000</td>\n",
       "    </tr>\n",
       "    <tr>\n",
       "      <th>6</th>\n",
       "      <td>0.000000</td>\n",
       "      <td>0.000000</td>\n",
       "      <td>0.000000</td>\n",
       "      <td>0.000000</td>\n",
       "      <td>0.000000</td>\n",
       "      <td>0.000000</td>\n",
       "      <td>0.000000</td>\n",
       "      <td>0.000000</td>\n",
       "      <td>0.040000</td>\n",
       "      <td>0.000000</td>\n",
       "      <td>...</td>\n",
       "      <td>0.000000</td>\n",
       "      <td>0.000000</td>\n",
       "      <td>0.000000</td>\n",
       "      <td>0.002500</td>\n",
       "      <td>0.000000</td>\n",
       "      <td>0.00750</td>\n",
       "      <td>0.000000</td>\n",
       "      <td>0.007500</td>\n",
       "      <td>0.00000</td>\n",
       "      <td>0.000000</td>\n",
       "    </tr>\n",
       "  </tbody>\n",
       "</table>\n",
       "<p>7 rows × 157 columns</p>\n",
       "</div>"
      ],
      "text/plain": [
       "                Adult Boutique  Afghan Restaurant   Airport  \\\n",
       "Cluster Labels                                                \n",
       "0                     0.000000           0.000000  0.076923   \n",
       "1                     0.000000           0.000000  0.000000   \n",
       "2                     0.000000           0.000000  0.000000   \n",
       "3                     0.000000           0.000000  0.000000   \n",
       "4                     0.000000           0.000000  0.000000   \n",
       "5                     0.011364           0.011364  0.000000   \n",
       "6                     0.000000           0.000000  0.000000   \n",
       "\n",
       "                Airport Food Court  Airport Gate  Airport Lounge  \\\n",
       "Cluster Labels                                                     \n",
       "0                         0.076923      0.076923        0.153846   \n",
       "1                         0.000000      0.000000        0.000000   \n",
       "2                         0.000000      0.000000        0.000000   \n",
       "3                         0.000000      0.000000        0.000000   \n",
       "4                         0.000000      0.000000        0.000000   \n",
       "5                         0.000000      0.000000        0.000000   \n",
       "6                         0.000000      0.000000        0.000000   \n",
       "\n",
       "                Airport Service  Airport Terminal  American Restaurant  \\\n",
       "Cluster Labels                                                           \n",
       "0                      0.153846          0.153846             0.000000   \n",
       "1                      0.000000          0.000000             0.008229   \n",
       "2                      0.000000          0.000000             0.000000   \n",
       "3                      0.000000          0.000000             0.010175   \n",
       "4                      0.000000          0.000000             0.015385   \n",
       "5                      0.000000          0.000000             0.011364   \n",
       "6                      0.000000          0.000000             0.040000   \n",
       "\n",
       "                Antique Shop     ...       Mexican Restaurant  \\\n",
       "Cluster Labels                   ...                            \n",
       "0                   0.000000     ...                 0.000000   \n",
       "1                   0.002382     ...                 0.007192   \n",
       "2                   0.000000     ...                 0.030000   \n",
       "3                   0.003509     ...                 0.000000   \n",
       "4                   0.000000     ...                 0.000000   \n",
       "5                   0.000000     ...                 0.011364   \n",
       "6                   0.000000     ...                 0.000000   \n",
       "\n",
       "                Middle Eastern Restaurant  Miscellaneous Shop  \\\n",
       "Cluster Labels                                                  \n",
       "0                                0.000000            0.000000   \n",
       "1                                0.004816            0.000822   \n",
       "2                                0.000000            0.000000   \n",
       "3                                0.003333            0.000000   \n",
       "4                                0.000000            0.015385   \n",
       "5                                0.000000            0.000000   \n",
       "6                                0.000000            0.000000   \n",
       "\n",
       "                Modern European Restaurant  Molecular Gastronomy Restaurant  \\\n",
       "Cluster Labels                                                                \n",
       "0                                 0.000000                         0.000000   \n",
       "1                                 0.000822                         0.000000   \n",
       "2                                 0.000000                         0.000000   \n",
       "3                                 0.000000                         0.006842   \n",
       "4                                 0.000000                         0.000000   \n",
       "5                                 0.000000                         0.000000   \n",
       "6                                 0.002500                         0.000000   \n",
       "\n",
       "                Monument / Landmark  Movie Theater    Museum  Music Store  \\\n",
       "Cluster Labels                                                              \n",
       "0                           0.00000       0.000000  0.000000      0.00000   \n",
       "1                           0.00037       0.004369  0.000000      0.00095   \n",
       "2                           0.00000       0.000000  0.000000      0.00000   \n",
       "3                           0.00000       0.006842  0.009569      0.00000   \n",
       "4                           0.00000       0.000000  0.000000      0.00000   \n",
       "5                           0.00000       0.000000  0.000000      0.00000   \n",
       "6                           0.00750       0.000000  0.007500      0.00000   \n",
       "\n",
       "                Music Venue  \n",
       "Cluster Labels               \n",
       "0                  0.000000  \n",
       "1                  0.004573  \n",
       "2                  0.000000  \n",
       "3                  0.000000  \n",
       "4                  0.015385  \n",
       "5                  0.000000  \n",
       "6                  0.000000  \n",
       "\n",
       "[7 rows x 157 columns]"
      ]
     },
     "execution_count": 386,
     "metadata": {},
     "output_type": "execute_result"
    }
   ],
   "source": [
    "torontoFinal_average_cluster"
   ]
  },
  {
   "cell_type": "markdown",
   "metadata": {},
   "source": [
    "In Toronto you can have coffe everywhere... (I bet also in cluster0's Airport Food Court)"
   ]
  },
  {
   "cell_type": "code",
   "execution_count": 387,
   "metadata": {},
   "outputs": [
    {
     "data": {
      "text/html": [
       "<div>\n",
       "<style scoped>\n",
       "    .dataframe tbody tr th:only-of-type {\n",
       "        vertical-align: middle;\n",
       "    }\n",
       "\n",
       "    .dataframe tbody tr th {\n",
       "        vertical-align: top;\n",
       "    }\n",
       "\n",
       "    .dataframe thead th {\n",
       "        text-align: right;\n",
       "    }\n",
       "</style>\n",
       "<table border=\"1\" class=\"dataframe\">\n",
       "  <thead>\n",
       "    <tr style=\"text-align: right;\">\n",
       "      <th></th>\n",
       "      <th>Coffee Shop</th>\n",
       "    </tr>\n",
       "    <tr>\n",
       "      <th>Cluster Labels</th>\n",
       "      <th></th>\n",
       "    </tr>\n",
       "  </thead>\n",
       "  <tbody>\n",
       "    <tr>\n",
       "      <th>0</th>\n",
       "      <td>0.000000</td>\n",
       "    </tr>\n",
       "    <tr>\n",
       "      <th>1</th>\n",
       "      <td>0.071553</td>\n",
       "    </tr>\n",
       "    <tr>\n",
       "      <th>2</th>\n",
       "      <td>0.040000</td>\n",
       "    </tr>\n",
       "    <tr>\n",
       "      <th>3</th>\n",
       "      <td>0.079155</td>\n",
       "    </tr>\n",
       "    <tr>\n",
       "      <th>4</th>\n",
       "      <td>0.046154</td>\n",
       "    </tr>\n",
       "    <tr>\n",
       "      <th>5</th>\n",
       "      <td>0.056818</td>\n",
       "    </tr>\n",
       "    <tr>\n",
       "      <th>6</th>\n",
       "      <td>0.095000</td>\n",
       "    </tr>\n",
       "  </tbody>\n",
       "</table>\n",
       "</div>"
      ],
      "text/plain": [
       "                Coffee Shop\n",
       "Cluster Labels             \n",
       "0                  0.000000\n",
       "1                  0.071553\n",
       "2                  0.040000\n",
       "3                  0.079155\n",
       "4                  0.046154\n",
       "5                  0.056818\n",
       "6                  0.095000"
      ]
     },
     "execution_count": 387,
     "metadata": {},
     "output_type": "execute_result"
    }
   ],
   "source": [
    "torontoFinal_average_cluster[['Coffee Shop']]"
   ]
  },
  {
   "cell_type": "markdown",
   "metadata": {},
   "source": [
    "If you like museums, then cluster 3 and 6 are the best"
   ]
  },
  {
   "cell_type": "code",
   "execution_count": 403,
   "metadata": {},
   "outputs": [
    {
     "data": {
      "text/html": [
       "<div>\n",
       "<style scoped>\n",
       "    .dataframe tbody tr th:only-of-type {\n",
       "        vertical-align: middle;\n",
       "    }\n",
       "\n",
       "    .dataframe tbody tr th {\n",
       "        vertical-align: top;\n",
       "    }\n",
       "\n",
       "    .dataframe thead th {\n",
       "        text-align: right;\n",
       "    }\n",
       "</style>\n",
       "<table border=\"1\" class=\"dataframe\">\n",
       "  <thead>\n",
       "    <tr style=\"text-align: right;\">\n",
       "      <th></th>\n",
       "      <th>Museum</th>\n",
       "    </tr>\n",
       "    <tr>\n",
       "      <th>Cluster Labels</th>\n",
       "      <th></th>\n",
       "    </tr>\n",
       "  </thead>\n",
       "  <tbody>\n",
       "    <tr>\n",
       "      <th>0</th>\n",
       "      <td>0.000000</td>\n",
       "    </tr>\n",
       "    <tr>\n",
       "      <th>1</th>\n",
       "      <td>0.000000</td>\n",
       "    </tr>\n",
       "    <tr>\n",
       "      <th>2</th>\n",
       "      <td>0.000000</td>\n",
       "    </tr>\n",
       "    <tr>\n",
       "      <th>3</th>\n",
       "      <td>0.009569</td>\n",
       "    </tr>\n",
       "    <tr>\n",
       "      <th>4</th>\n",
       "      <td>0.000000</td>\n",
       "    </tr>\n",
       "    <tr>\n",
       "      <th>5</th>\n",
       "      <td>0.000000</td>\n",
       "    </tr>\n",
       "    <tr>\n",
       "      <th>6</th>\n",
       "      <td>0.007500</td>\n",
       "    </tr>\n",
       "  </tbody>\n",
       "</table>\n",
       "</div>"
      ],
      "text/plain": [
       "                  Museum\n",
       "Cluster Labels          \n",
       "0               0.000000\n",
       "1               0.000000\n",
       "2               0.000000\n",
       "3               0.009569\n",
       "4               0.000000\n",
       "5               0.000000\n",
       "6               0.007500"
      ]
     },
     "execution_count": 403,
     "metadata": {},
     "output_type": "execute_result"
    }
   ],
   "source": [
    "torontoFinal_average_cluster[['Museum']]"
   ]
  },
  {
   "cell_type": "markdown",
   "metadata": {},
   "source": [
    "### Some clusters characterization"
   ]
  },
  {
   "cell_type": "markdown",
   "metadata": {},
   "source": [
    "Examine venues characterization of the cluster, based also on the neighborhoods positions on the map"
   ]
  },
  {
   "cell_type": "markdown",
   "metadata": {},
   "source": [
    "#### Cluster 0"
   ]
  },
  {
   "cell_type": "markdown",
   "metadata": {},
   "source": [
    "As can be seen from the map, cluster 0 is composed by the neighborhoods new the airport. It has all the venue related to the airport."
   ]
  },
  {
   "cell_type": "code",
   "execution_count": 388,
   "metadata": {},
   "outputs": [],
   "source": [
    "venue0=getVenuesList(torontoFinal_average_cluster,0)"
   ]
  },
  {
   "cell_type": "code",
   "execution_count": 389,
   "metadata": {},
   "outputs": [
    {
     "data": {
      "text/plain": [
       "array(['Airport', 'Airport Food Court', 'Airport Gate', 'Airport Lounge',\n",
       "       'Airport Service', 'Airport Terminal', 'Boat or Ferry',\n",
       "       'Harbor / Marina'], dtype=object)"
      ]
     },
     "execution_count": 389,
     "metadata": {},
     "output_type": "execute_result"
    }
   ],
   "source": [
    "venue0"
   ]
  },
  {
   "cell_type": "markdown",
   "metadata": {},
   "source": [
    "#### Cluster 1"
   ]
  },
  {
   "cell_type": "markdown",
   "metadata": {},
   "source": [
    "The cluster with more venues and with more neighbourhoods"
   ]
  },
  {
   "cell_type": "code",
   "execution_count": 390,
   "metadata": {},
   "outputs": [],
   "source": [
    "venue1=getVenuesList(torontoFinal_average_cluster,1)"
   ]
  },
  {
   "cell_type": "code",
   "execution_count": 391,
   "metadata": {},
   "outputs": [
    {
     "data": {
      "text/plain": [
       "array(['American Restaurant', 'Antique Shop', 'Aquarium', 'Art Gallery',\n",
       "       'Art Museum', 'Arts & Crafts Store', 'Asian Restaurant',\n",
       "       'Auto Workshop', 'BBQ Joint', 'Baby Store', 'Bagel Shop', 'Bakery',\n",
       "       'Bank', 'Bar', 'Baseball Stadium', 'Basketball Stadium',\n",
       "       'Beer Bar', 'Beer Store', 'Bistro', 'Bookstore', 'Breakfast Spot',\n",
       "       'Brewery', 'Bubble Tea Shop', 'Burger Joint', 'Burrito Place',\n",
       "       'Bus Line', 'Butcher', 'Café', 'Cajun / Creole Restaurant',\n",
       "       'Caribbean Restaurant', 'Cheese Shop', 'Chinese Restaurant',\n",
       "       'Chocolate Shop', 'Climbing Gym', 'Clothing Store', 'Coffee Shop',\n",
       "       'College Arts Building', 'College Gym', 'College Rec Center',\n",
       "       'Comfort Food Restaurant', 'Comic Shop', 'Concert Hall',\n",
       "       'Convenience Store', 'Cosmetics Shop', 'Coworking Space',\n",
       "       'Cuban Restaurant', 'Dance Studio', 'Deli / Bodega',\n",
       "       'Department Store', 'Dessert Shop', 'Dim Sum Restaurant', 'Diner',\n",
       "       'Discount Store', 'Dog Run', 'Donut Shop',\n",
       "       'Eastern European Restaurant', 'Electronics Store', 'Event Space',\n",
       "       'Falafel Restaurant', 'Farmers Market', 'Fast Food Restaurant',\n",
       "       'Fish & Chips Shop', 'Fish Market', 'Flea Market', 'Food',\n",
       "       'Food & Drink Shop', 'Food Court', 'French Restaurant',\n",
       "       'Fried Chicken Joint', 'Fruit & Vegetable Store',\n",
       "       'Furniture / Home Store', 'Garden', 'Garden Center', 'Gastropub',\n",
       "       'General Entertainment', 'Gift Shop', 'Gourmet Shop',\n",
       "       'Greek Restaurant', 'Grocery Store', 'Gym', 'Gym / Fitness Center',\n",
       "       'Health & Beauty Service', 'Health Food Store', 'Historic Site',\n",
       "       'History Museum', 'Hobby Shop', 'Hookah Bar', 'Hotel', 'Hotel Bar',\n",
       "       'Ice Cream Shop', 'Indian Restaurant', 'Indie Movie Theater',\n",
       "       'Indoor Play Area', 'Italian Restaurant', 'Japanese Restaurant',\n",
       "       'Jazz Club', 'Jewelry Store', 'Jewish Restaurant', 'Juice Bar',\n",
       "       'Korean Restaurant', 'Lake', 'Latin American Restaurant',\n",
       "       'Light Rail Station', 'Lingerie Store', 'Liquor Store', 'Lounge',\n",
       "       'Market', 'Mexican Restaurant', 'Middle Eastern Restaurant',\n",
       "       'Miscellaneous Shop', 'Modern European Restaurant',\n",
       "       'Monument / Landmark', 'Movie Theater', 'Music Store',\n",
       "       'Music Venue'], dtype=object)"
      ]
     },
     "execution_count": 391,
     "metadata": {},
     "output_type": "execute_result"
    }
   ],
   "source": [
    "venue1"
   ]
  },
  {
   "cell_type": "markdown",
   "metadata": {},
   "source": [
    "#### Cluster 2"
   ]
  },
  {
   "cell_type": "code",
   "execution_count": 392,
   "metadata": {},
   "outputs": [],
   "source": [
    "venue2=getVenuesList(torontoFinal_average_cluster,2)"
   ]
  },
  {
   "cell_type": "code",
   "execution_count": 393,
   "metadata": {},
   "outputs": [
    {
     "data": {
      "text/plain": [
       "array(['Arepa Restaurant', 'Arts & Crafts Store', 'Bagel Shop', 'Bakery',\n",
       "       'Bar', 'Beer Bar', 'Belgian Restaurant', 'Bistro',\n",
       "       'Breakfast Spot', 'Brewery', 'Bubble Tea Shop', 'Burger Joint',\n",
       "       'Burrito Place', 'Café', 'Caribbean Restaurant', 'Cheese Shop',\n",
       "       'Chinese Restaurant', 'Cocktail Bar', 'Coffee Shop',\n",
       "       'Comfort Food Restaurant', 'Dessert Shop', 'Dim Sum Restaurant',\n",
       "       'Doner Restaurant', 'Donut Shop', 'Dumpling Restaurant',\n",
       "       'Farmers Market', 'Filipino Restaurant', 'Fish & Chips Shop',\n",
       "       'Fish Market', 'Food Court', 'Furniture / Home Store',\n",
       "       'Gaming Cafe', 'Gourmet Shop', 'Grocery Store', 'Hospital',\n",
       "       'Hotel Bar', 'Hotpot Restaurant', 'Ice Cream Shop',\n",
       "       'Italian Restaurant', 'Japanese Restaurant', 'Jazz Club',\n",
       "       'Liquor Store', 'Market', 'Martial Arts Dojo',\n",
       "       'Mexican Restaurant'], dtype=object)"
      ]
     },
     "execution_count": 393,
     "metadata": {},
     "output_type": "execute_result"
    }
   ],
   "source": [
    "venue2"
   ]
  },
  {
   "cell_type": "markdown",
   "metadata": {},
   "source": [
    "Having ChinaTown, it is the one with more chinese restaurant"
   ]
  },
  {
   "cell_type": "code",
   "execution_count": 394,
   "metadata": {},
   "outputs": [
    {
     "data": {
      "text/html": [
       "<div>\n",
       "<style scoped>\n",
       "    .dataframe tbody tr th:only-of-type {\n",
       "        vertical-align: middle;\n",
       "    }\n",
       "\n",
       "    .dataframe tbody tr th {\n",
       "        vertical-align: top;\n",
       "    }\n",
       "\n",
       "    .dataframe thead th {\n",
       "        text-align: right;\n",
       "    }\n",
       "</style>\n",
       "<table border=\"1\" class=\"dataframe\">\n",
       "  <thead>\n",
       "    <tr style=\"text-align: right;\">\n",
       "      <th></th>\n",
       "      <th>Chinese Restaurant</th>\n",
       "    </tr>\n",
       "    <tr>\n",
       "      <th>Cluster Labels</th>\n",
       "      <th></th>\n",
       "    </tr>\n",
       "  </thead>\n",
       "  <tbody>\n",
       "    <tr>\n",
       "      <th>0</th>\n",
       "      <td>0.000000</td>\n",
       "    </tr>\n",
       "    <tr>\n",
       "      <th>1</th>\n",
       "      <td>0.006546</td>\n",
       "    </tr>\n",
       "    <tr>\n",
       "      <th>2</th>\n",
       "      <td>0.030000</td>\n",
       "    </tr>\n",
       "    <tr>\n",
       "      <th>3</th>\n",
       "      <td>0.000000</td>\n",
       "    </tr>\n",
       "    <tr>\n",
       "      <th>4</th>\n",
       "      <td>0.000000</td>\n",
       "    </tr>\n",
       "    <tr>\n",
       "      <th>5</th>\n",
       "      <td>0.011364</td>\n",
       "    </tr>\n",
       "    <tr>\n",
       "      <th>6</th>\n",
       "      <td>0.000000</td>\n",
       "    </tr>\n",
       "  </tbody>\n",
       "</table>\n",
       "</div>"
      ],
      "text/plain": [
       "                Chinese Restaurant\n",
       "Cluster Labels                    \n",
       "0                         0.000000\n",
       "1                         0.006546\n",
       "2                         0.030000\n",
       "3                         0.000000\n",
       "4                         0.000000\n",
       "5                         0.011364\n",
       "6                         0.000000"
      ]
     },
     "execution_count": 394,
     "metadata": {},
     "output_type": "execute_result"
    }
   ],
   "source": [
    "torontoFinal_average_cluster[['Chinese Restaurant']]"
   ]
  },
  {
   "cell_type": "markdown",
   "metadata": {},
   "source": [
    "#### Cluster 3"
   ]
  },
  {
   "cell_type": "code",
   "execution_count": 395,
   "metadata": {},
   "outputs": [],
   "source": [
    "venue3=getVenuesList(torontoFinal_average_cluster,3)"
   ]
  },
  {
   "cell_type": "code",
   "execution_count": 396,
   "metadata": {},
   "outputs": [
    {
     "data": {
      "text/plain": [
       "array(['American Restaurant', 'Antique Shop', 'Art Gallery', 'BBQ Joint',\n",
       "       'Bagel Shop', 'Bakery', 'Bank', 'Basketball Stadium', 'Beach',\n",
       "       'Beer Bar', 'Belgian Restaurant', 'Bistro', 'Bookstore',\n",
       "       'Breakfast Spot', 'Café', 'Cheese Shop', 'Church',\n",
       "       'Clothing Store', 'Cocktail Bar', 'Coffee Shop',\n",
       "       'Comfort Food Restaurant', 'Concert Hall', 'Cosmetics Shop',\n",
       "       'Creperie', 'Deli / Bodega', 'Department Store', 'Diner',\n",
       "       'Electronics Store', 'Farmers Market', 'Fast Food Restaurant',\n",
       "       'Fish Market', 'Food Truck', 'Fountain', 'French Restaurant',\n",
       "       'Furniture / Home Store', 'Gastropub', 'German Restaurant',\n",
       "       'Greek Restaurant', 'Grocery Store', 'Gym', 'Hostel', 'Hotel',\n",
       "       'Ice Cream Shop', 'Indian Restaurant', 'Irish Pub',\n",
       "       'Italian Restaurant', 'Japanese Restaurant', 'Jazz Club',\n",
       "       'Korean Restaurant', 'Latin American Restaurant', 'Liquor Store',\n",
       "       'Lounge', 'Middle Eastern Restaurant',\n",
       "       'Molecular Gastronomy Restaurant', 'Movie Theater', 'Museum'],\n",
       "      dtype=object)"
      ]
     },
     "execution_count": 396,
     "metadata": {},
     "output_type": "execute_result"
    }
   ],
   "source": [
    "venue3"
   ]
  },
  {
   "cell_type": "markdown",
   "metadata": {},
   "source": [
    "#### Cluster 4"
   ]
  },
  {
   "cell_type": "code",
   "execution_count": 397,
   "metadata": {},
   "outputs": [],
   "source": [
    "venue4=getVenuesList(torontoFinal_average_cluster,4)"
   ]
  },
  {
   "cell_type": "code",
   "execution_count": 398,
   "metadata": {},
   "outputs": [
    {
     "data": {
      "text/plain": [
       "array(['American Restaurant', 'Art Gallery', 'Asian Restaurant', 'Bakery',\n",
       "       'Bar', 'Bistro', 'Boutique', 'Brewery', 'Café', 'Cocktail Bar',\n",
       "       'Coffee Shop', 'Cuban Restaurant', 'Cupcake Shop', 'Diner',\n",
       "       'Dog Run', 'French Restaurant', 'Gift Shop', 'Greek Restaurant',\n",
       "       'Gym / Fitness Center', 'Ice Cream Shop', 'Italian Restaurant',\n",
       "       'Juice Bar', 'Korean Restaurant', 'Mac & Cheese Joint',\n",
       "       'Malay Restaurant', \"Men's Store\", 'Miscellaneous Shop',\n",
       "       'Music Venue'], dtype=object)"
      ]
     },
     "execution_count": 398,
     "metadata": {},
     "output_type": "execute_result"
    }
   ],
   "source": [
    "venue4"
   ]
  },
  {
   "cell_type": "markdown",
   "metadata": {},
   "source": [
    "#### Cluster 5"
   ]
  },
  {
   "cell_type": "markdown",
   "metadata": {},
   "source": [
    "It is composed by Church and Wellesle, also known as The Village, because it contains a gay community. It is also famous for its night life."
   ]
  },
  {
   "cell_type": "code",
   "execution_count": 399,
   "metadata": {},
   "outputs": [],
   "source": [
    "venue5=getVenuesList(torontoFinal_average_cluster,5)"
   ]
  },
  {
   "cell_type": "code",
   "execution_count": 400,
   "metadata": {},
   "outputs": [
    {
     "data": {
      "text/plain": [
       "array(['Adult Boutique', 'Afghan Restaurant', 'American Restaurant',\n",
       "       'Arts & Crafts Store', 'Bar', 'Bookstore', 'Breakfast Spot',\n",
       "       'Bubble Tea Shop', 'Burger Joint', 'Burrito Place', 'Café',\n",
       "       'Caribbean Restaurant', 'Chinese Restaurant', 'Coffee Shop',\n",
       "       'Cosmetics Shop', 'Creperie', 'Dance Studio', 'Diner', 'Dog Run',\n",
       "       'Ethiopian Restaurant', 'Fast Food Restaurant',\n",
       "       'Food & Drink Shop', 'Gastropub', 'Gay Bar',\n",
       "       'General Entertainment', 'Grocery Store', 'Gym',\n",
       "       'Health & Beauty Service', 'Hobby Shop', 'Hotel', 'Ice Cream Shop',\n",
       "       'Indian Restaurant', 'Japanese Restaurant', 'Juice Bar',\n",
       "       'Mediterranean Restaurant', \"Men's Store\", 'Mexican Restaurant'],\n",
       "      dtype=object)"
      ]
     },
     "execution_count": 400,
     "metadata": {},
     "output_type": "execute_result"
    }
   ],
   "source": [
    "venue5"
   ]
  },
  {
   "cell_type": "markdown",
   "metadata": {},
   "source": [
    "#### Cluster 6"
   ]
  },
  {
   "cell_type": "code",
   "execution_count": 401,
   "metadata": {},
   "outputs": [],
   "source": [
    "venue6=getVenuesList(torontoFinal_average_cluster,6)"
   ]
  },
  {
   "cell_type": "code",
   "execution_count": 402,
   "metadata": {},
   "outputs": [
    {
     "data": {
      "text/plain": [
       "array(['American Restaurant', 'Art Gallery', 'Art Museum',\n",
       "       'Asian Restaurant', 'Bakery', 'Bar', 'Basketball Stadium',\n",
       "       'Beer Bar', 'Bookstore', 'Brazilian Restaurant', 'Breakfast Spot',\n",
       "       'Building', 'Burger Joint', 'Burrito Place', 'Café',\n",
       "       'Clothing Store', 'Cocktail Bar', 'Coffee Shop', 'Concert Hall',\n",
       "       'Cosmetics Shop', 'Creperie', 'Deli / Bodega', 'Department Store',\n",
       "       'Electronics Store', 'Fast Food Restaurant', 'Food Court',\n",
       "       'Food Truck', 'Fountain', 'French Restaurant',\n",
       "       'Fried Chicken Joint', 'Gastropub', 'General Travel',\n",
       "       'Gluten-free Restaurant', 'Greek Restaurant', 'Gym',\n",
       "       'Gym / Fitness Center', 'Hotel', 'Hotel Bar', 'Ice Cream Shop',\n",
       "       'Indian Restaurant', 'Irish Pub', 'Italian Restaurant',\n",
       "       'Japanese Restaurant', 'Jazz Club', 'Lounge',\n",
       "       'Mediterranean Restaurant', 'Modern European Restaurant',\n",
       "       'Monument / Landmark', 'Museum'], dtype=object)"
      ]
     },
     "execution_count": 402,
     "metadata": {},
     "output_type": "execute_result"
    }
   ],
   "source": [
    "venue6"
   ]
  },
  {
   "cell_type": "code",
   "execution_count": null,
   "metadata": {},
   "outputs": [],
   "source": []
  }
 ],
 "metadata": {
  "kernelspec": {
   "display_name": "Python 3",
   "language": "python",
   "name": "python3"
  },
  "language_info": {
   "codemirror_mode": {
    "name": "ipython",
    "version": 3
   },
   "file_extension": ".py",
   "mimetype": "text/x-python",
   "name": "python",
   "nbconvert_exporter": "python",
   "pygments_lexer": "ipython3",
   "version": "3.7.2"
  }
 },
 "nbformat": 4,
 "nbformat_minor": 2
}
